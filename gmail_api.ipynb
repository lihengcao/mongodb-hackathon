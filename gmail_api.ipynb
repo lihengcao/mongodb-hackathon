{
 "cells": [
  {
   "cell_type": "code",
   "execution_count": null,
   "metadata": {},
   "outputs": [],
   "source": [
    "# Copyright 2018 Google LLC\n",
    "#\n",
    "# Licensed under the Apache License, Version 2.0 (the \"License\");\n",
    "# you may not use this file except in compliance with the License.\n",
    "# You may obtain a copy of the License at\n",
    "#\n",
    "#     http://www.apache.org/licenses/LICENSE-2.0\n",
    "#\n",
    "# Unless required by applicable law or agreed to in writing, software\n",
    "# distributed under the License is distributed on an \"AS IS\" BASIS,\n",
    "# WITHOUT WARRANTIES OR CONDITIONS OF ANY KIND, either express or implied.\n",
    "# See the License for the specific language governing permissions and\n",
    "# limitations under the License.\n",
    "\n",
    "# [START gmail_quickstart]\n",
    "import os.path\n",
    "\n",
    "from google.auth.transport.requests import Request\n",
    "from google.oauth2.credentials import Credentials\n",
    "from google_auth_oauthlib.flow import InstalledAppFlow\n",
    "from googleapiclient.discovery import build\n",
    "from googleapiclient.errors import HttpError\n",
    "\n",
    "# If modifying these scopes, delete the file token.json.\n",
    "SCOPES = [\"https://www.googleapis.com/auth/gmail.readonly\"]\n",
    "\n",
    "CREDENTIALS_PATH = \"credentials.json.env\"\n",
    "TOKEN_PATH = \"token.json.env\"\n",
    "\n",
    "\n",
    "\n",
    "creds = None\n",
    "# The file token.json stores the user's access and refresh tokens, and is\n",
    "# created automatically when the authorization flow completes for the first\n",
    "# time.\n",
    "if os.path.exists(TOKEN_PATH):\n",
    "    creds = Credentials.from_authorized_user_file(TOKEN_PATH, SCOPES)\n",
    "# If there are no (valid) credentials available, let the user log in.\n",
    "if not creds or not creds.valid:\n",
    "    if creds and creds.expired and creds.refresh_token:\n",
    "        creds.refresh(Request())\n",
    "    else:\n",
    "        flow = InstalledAppFlow.from_client_secrets_file(CREDENTIALS_PATH, SCOPES)\n",
    "        creds = flow.run_local_server(port=0)\n",
    "    # Save the credentials for the next run\n",
    "    with open(TOKEN_PATH, \"w\") as token:\n",
    "        token.write(creds.to_json())\n",
    "\n",
    "try:\n",
    "    # Call the Gmail API\n",
    "    service = build(\"gmail\", \"v1\", credentials=creds)\n",
    "    results = service.users().labels().list(userId=\"me\").execute()\n",
    "    labels = results.get(\"labels\", [])\n",
    "\n",
    "    if not labels:\n",
    "        print(\"No labels found.\")\n",
    "    else:\n",
    "        print(\"Labels:\")\n",
    "        for label in labels:\n",
    "            print(label[\"name\"])\n",
    "\n",
    "        print('---')\n",
    "        print(labels)\n",
    "\n",
    "except HttpError as error:\n",
    "    # TODO(developer) - Handle errors from gmail API.\n",
    "    print(f\"An error occurred: {error}\")\n",
    "\n"
   ]
  },
  {
   "cell_type": "code",
   "execution_count": null,
   "metadata": {},
   "outputs": [],
   "source": [
    "print(results.get(\"labels\"))\n"
   ]
  },
  {
   "cell_type": "code",
   "execution_count": null,
   "metadata": {},
   "outputs": [],
   "source": [
    "import base64\n",
    "import email\n",
    "\n",
    "def get_messages(service, user_id):\n",
    "  try:\n",
    "    return service.users().messages().list(userId=user_id).execute()\n",
    "  except Exception as error:\n",
    "    print('An error occurred: %s' % error)\n",
    "\n",
    "def get_message(service, user_id, msg_id):\n",
    "  try:\n",
    "    return service.users().messages().get(userId=user_id, id=msg_id, format='metadata').execute()\n",
    "  except Exception as error:\n",
    "    print('An error occurred: %s' % error)\n",
    "\n",
    "def get_mime_message(service, user_id, msg_id):\n",
    "  try:\n",
    "    message = service.users().messages().get(userId=user_id, id=msg_id,\n",
    "                                             format='raw').execute()\n",
    "    print('Message snippet: %s' % message['snippet'])\n",
    "    msg_str = base64.urlsafe_b64decode(message['raw'].encode(\"utf-8\")).decode(\"utf-8\")\n",
    "    mime_msg = email.message_from_string(msg_str)\n",
    "    return mime_msg\n",
    "  except Exception as error:\n",
    "    print('An error occurred: %s' % error)"
   ]
  },
  {
   "cell_type": "code",
   "execution_count": null,
   "metadata": {},
   "outputs": [],
   "source": [
    "print(get_messages(service, \"me\"))"
   ]
  },
  {
   "cell_type": "code",
   "execution_count": null,
   "metadata": {},
   "outputs": [],
   "source": [
    "print(get_mime_message(service, \"me\", \"18ea9bbc248b0518\"))"
   ]
  }
 ],
 "metadata": {
  "kernelspec": {
   "display_name": "mongodb-hackathon-8DWgsWax",
   "language": "python",
   "name": "python3"
  },
  "language_info": {
   "codemirror_mode": {
    "name": "ipython",
    "version": 3
   },
   "file_extension": ".py",
   "mimetype": "text/x-python",
   "name": "python",
   "nbconvert_exporter": "python",
   "pygments_lexer": "ipython3",
   "version": "3.12.2"
  }
 },
 "nbformat": 4,
 "nbformat_minor": 2
}
